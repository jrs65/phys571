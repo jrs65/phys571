{
 "cells": [
  {
   "cell_type": "code",
   "execution_count": null,
   "id": "c861ccfc-8c21-4ca5-9088-f32dd851ae3c",
   "metadata": {},
   "outputs": [],
   "source": [
    "import numpy as np\n",
    "from matplotlib import pyplot as plt\n",
    "import camb\n",
    "\n",
    "plt.rcParams.update({\"figure.figsize\": (12, 8), \"font.size\": 14})"
   ]
  },
  {
   "cell_type": "code",
   "execution_count": null,
   "id": "78a12ab0-7069-4cb9-bdb4-97e111b4d09f",
   "metadata": {},
   "outputs": [],
   "source": [
    "# random number generator with a fixed seed\n",
    "rng = np.random.default_rng(12345)"
   ]
  },
  {
   "cell_type": "markdown",
   "id": "8e50efc8-26fe-4bf6-898e-d872a366fc6b",
   "metadata": {},
   "source": [
    "### Get power spectrum"
   ]
  },
  {
   "cell_type": "code",
   "execution_count": null,
   "id": "6a311506-aea7-473c-ac58-6109ab246dc1",
   "metadata": {},
   "outputs": [],
   "source": [
    "# cosmological parameters used to generate the power spectrum\n",
    "cparams = camb.CAMBparams(ombh2=0.05 * 0.67**2, omch2=0.25 * 0.67**2, H0=67.)\n",
    "\n",
    "# interpolation function for the matter power spectrum\n",
    "pk = camb.get_matter_power_interpolator(cparams, nonlinear=False, zmax=1000)"
   ]
  },
  {
   "cell_type": "code",
   "execution_count": null,
   "id": "c2d37e6e-7dfb-416d-b996-2a16d2d97f51",
   "metadata": {},
   "outputs": [],
   "source": [
    "# Define a k axis to make some plots\n",
    "# CAMB uses units of Mpc/h\n",
    "kh = np.logspace(-4, 1, 1000)"
   ]
  },
  {
   "cell_type": "code",
   "execution_count": null,
   "id": "09b67b10-f3c7-483d-8b9e-e462a4606bcc",
   "metadata": {},
   "outputs": [],
   "source": [
    "# Plot the power spectrum at a few redshifts\n",
    "for z in [100, 10, 1, 0]:\n",
    "    plt.plot(kh, pk.P(z, kh), label=f\"z={z}\")\n",
    "plt.legend()\n",
    "plt.loglog()\n",
    "plt.xlabel(\"$k/h$ (h/Mpc)\")\n",
    "plt.ylabel(\"$P(k)$ $(Mpc/h)^3$\")"
   ]
  },
  {
   "cell_type": "markdown",
   "id": "bf9a78d5-7fb7-4a9b-af5a-7d97ef08a206",
   "metadata": {},
   "source": [
    "### Draw a realisation of density contrast\n",
    "We will draw random gaussian fluctuations from the power spectrum. We'll do this in 2d to simplify, so we need to scale the amplitude of the 3d power spectrum"
   ]
  },
  {
   "cell_type": "code",
   "execution_count": null,
   "id": "f5e32fa8-817e-43e8-8b55-674793d9d752",
   "metadata": {},
   "outputs": [],
   "source": [
    "# Define a discrete grid\n",
    "N = 512\n",
    "k = np.arange(N)  # positive k\n",
    "k_full = np.arange(2 * N) - N  # positive and negative k\n",
    "\n",
    "# This is the redshift for the \"early time\" power spectrum\n",
    "z0 = 1000\n",
    "\n",
    "# Scale the integer grid to physical units to evaluate the power spectrum\n",
    "# The power spectrum is isotropic, i.e. it depends only on the magnitude of k\n",
    "# We only need to sample the half-space, because the density contrast is a\n",
    "# real quantity so the negative frequencies are redundant\n",
    "kmax = 4\n",
    "k_grid = np.sqrt(k**2 + k_full[:, np.newaxis]**2) * kmax / N\n",
    "\n",
    "# Draw random gaussian samples with zero mean and unit standard deviation\n",
    "delta_k = 0.5**0.5 * (rng.standard_normal(size=(2 * N, N)) + 1j * rng.standard_normal(size=(2 * N, N)))\n",
    "\n",
    "# Scale by the power spectrum to introduce k-dependence\n",
    "delta_k *= np.sqrt(pk.P(z0, k_grid) * (2 * np.pi)**2 * k_grid / np.pi)\n",
    "delta_k[k_grid == 0] *= 0  # ensure zero-mean"
   ]
  },
  {
   "cell_type": "code",
   "execution_count": null,
   "id": "afce7c3a-a638-4eb2-8bca-1a8819572368",
   "metadata": {},
   "outputs": [],
   "source": [
    "# quick plot of k and delta^2(k)\n",
    "fig, ax = plt.subplots(1, 2)\n",
    "im = ax[0].imshow(k_grid, origin=\"lower\")\n",
    "plt.colorbar(im, ax=ax[0], label=\"k (h/Mpc)\")\n",
    "im = ax[1].imshow(np.log10(np.abs(delta_k)**2), origin=\"lower\")\n",
    "plt.colorbar(im, ax=ax[1], label=\"$\\log_{10}\\delta^2(k)$\")"
   ]
  },
  {
   "cell_type": "code",
   "execution_count": null,
   "id": "403088ad-e8a5-4ae6-8f44-a07dd287b8f3",
   "metadata": {},
   "outputs": [],
   "source": [
    "# 2-d Fourier transform the samples to obtain the density contrast field\n",
    "# We need to shift the order of the full axis to match the FFT convention\n",
    "# which puts the positive frequencies first\n",
    "delta = np.fft.irfft2(np.fft.fftshift(delta_k, axes=0))"
   ]
  },
  {
   "cell_type": "code",
   "execution_count": null,
   "id": "d3419164-33ba-4c18-8627-b672c2738bc1",
   "metadata": {},
   "outputs": [],
   "source": [
    "# Calculate the physical spatial axis after the Fourier transform\n",
    "# We again shift the order to get back increasing x\n",
    "x = np.fft.fftshift(np.fft.fftfreq(2 * N, kmax / N / (2 * np.pi)))"
   ]
  },
  {
   "cell_type": "code",
   "execution_count": null,
   "id": "52504c5d-e93f-46d8-ae49-186a88cd9b70",
   "metadata": {},
   "outputs": [],
   "source": [
    "# Plot the density contrast field\n",
    "plt.imshow(delta, cmap=\"coolwarm\", origin=\"lower\", extent=(x.min(), x.max(), x.min(), x.max()))\n",
    "plt.colorbar(label=\"$\\delta$\")\n",
    "plt.xlabel(\"x (Mpc/h)\")\n",
    "plt.ylabel(\"y (Mpc/h)\")\n",
    "\n",
    "# zoom in if desired\n",
    "#plt.xlim(-100, 100)\n",
    "#plt.ylim(-100, 100)"
   ]
  }
 ],
 "metadata": {
  "kernelspec": {
   "display_name": "Python 3 (ipykernel)",
   "language": "python",
   "name": "python3"
  },
  "language_info": {
   "codemirror_mode": {
    "name": "ipython",
    "version": 3
   },
   "file_extension": ".py",
   "mimetype": "text/x-python",
   "name": "python",
   "nbconvert_exporter": "python",
   "pygments_lexer": "ipython3",
   "version": "3.10.4"
  }
 },
 "nbformat": 4,
 "nbformat_minor": 5
}
