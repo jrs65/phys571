{
 "cells": [
  {
   "cell_type": "code",
   "execution_count": null,
   "id": "c861ccfc-8c21-4ca5-9088-f32dd851ae3c",
   "metadata": {},
   "outputs": [],
   "source": [
    "import numpy as np\n",
    "from matplotlib import pyplot as plt\n",
    "import camb\n",
    "\n",
    "plt.rcParams.update({\"figure.figsize\": (12, 8), \"font.size\": 14})"
   ]
  },
  {
   "cell_type": "code",
   "execution_count": null,
   "id": "78a12ab0-7069-4cb9-bdb4-97e111b4d09f",
   "metadata": {},
   "outputs": [],
   "source": [
    "# random number generator with a fixed seed\n",
    "rng = np.random.default_rng(12345)"
   ]
  },
  {
   "cell_type": "markdown",
   "id": "8e50efc8-26fe-4bf6-898e-d872a366fc6b",
   "metadata": {},
   "source": [
    "### Get power spectrum"
   ]
  },
  {
   "cell_type": "code",
   "execution_count": null,
   "id": "6a311506-aea7-473c-ac58-6109ab246dc1",
   "metadata": {},
   "outputs": [],
   "source": [
    "# cosmological parameters used to generate the power spectrum\n",
    "cparams = camb.CAMBparams(ombh2=0.05 * 0.67**2, omch2=0.25 * 0.67**2, H0=67.)\n",
    "\n",
    "# interpolation function for the matter power spectrum\n",
    "pk = camb.get_matter_power_interpolator(cparams, nonlinear=False, zmax=1000)"
   ]
  },
  {
   "cell_type": "code",
   "execution_count": null,
   "id": "c2d37e6e-7dfb-416d-b996-2a16d2d97f51",
   "metadata": {},
   "outputs": [],
   "source": [
    "# Define a k axis to make some plots\n",
    "# CAMB uses units of Mpc/h\n",
    "kh = np.logspace(-4, 1, 1000)"
   ]
  },
  {
   "cell_type": "code",
   "execution_count": null,
   "id": "09b67b10-f3c7-483d-8b9e-e462a4606bcc",
   "metadata": {},
   "outputs": [],
   "source": [
    "# Plot the power spectrum at a few redshifts\n",
    "for z in [100, 10, 1, 0]:\n",
    "    plt.plot(kh, pk.P(z, kh), label=f\"z={z}\")\n",
    "plt.legend()\n",
    "plt.loglog()\n",
    "plt.xlabel(\"$k/h$ (h/Mpc)\")\n",
    "plt.ylabel(\"$P(k)$ $(Mpc/h)^3$\")"
   ]
  },
  {
   "cell_type": "markdown",
   "id": "b251e9e2-ed21-4bdc-af17-9f9732cae685",
   "metadata": {},
   "source": [
    "### Draw a realisation of density contrast\n",
    "We will draw random gaussian fluctuations from the power spectrum."
   ]
  },
  {
   "cell_type": "code",
   "execution_count": null,
   "id": "f6e14b2b-ada5-4aae-970d-f097eb6ba03d",
   "metadata": {},
   "outputs": [],
   "source": [
    "# Define a discrete grid and spacing in Mpc/h\n",
    "# We use a box with two long sides (N) and one short side (M) to save some memory\n",
    "N = 512\n",
    "M = 16\n",
    "d = 2  # Mpc / h spacing\n",
    "\n",
    "# Draw a Gaussian white noise realisation in real-space, the short axis is the last one.\n",
    "# We will transform this into k-space, apply the power spectrum and transform back. The \n",
    "# rationale for starting in real-space is that we don't need to figure the internal\n",
    "# normalisation of the FFT routines, just assume that the forward and reverse transforms\n",
    "# are inverses.\n",
    "white_noise = np.random.standard_normal((N, N, M))\n",
    "\n",
    "# As we're dealing with a real-valued field, we will use a real-to-complex FFT.\n",
    "# This returns one axis with only the positive wavenumbers (as the negative frequencies\n",
    "# are the complex conjugates). By convention this is the last axis, which is also the\n",
    "# short axis.\n",
    "# Use the numpy `fftfreq` routines to get the wavenumbers for each position on the \n",
    "# long (x, y) or short (z) axes. The factor of 2 pi is because in cosmology we an angular\n",
    "# frequency convention (i.e. the phase factor in the FT is e^{i k x}), whereas FFT\n",
    "# routines typically use a regular frequency convention (i.e. e^{2 pi i f t}).\n",
    "klong = 2 * np.pi * np.fft.fftfreq(N, d=d)\n",
    "kshort = 2 * np.pi * np.fft.rfftfreq(M, d=d)\n",
    "\n",
    "# Construct arrays for the wavenumbers along the x, y, z axes\n",
    "kx = klong[:, np.newaxis, np.newaxis]\n",
    "ky = klong[np.newaxis, :, np.newaxis]\n",
    "kz = kshort[np.newaxis, np.newaxis, :]\n",
    "\n",
    "# The total wavenumber for each element in k-space\n",
    "k_grid = np.sqrt(kx**2 + ky**2 + kz**2)\n",
    "\n",
    "# Initial redshift\n",
    "z0 = 1000.0\n",
    "\n",
    "# Get the power spectrum amplitude for each cell. Mapping the continuous power spectrum\n",
    "# into a discrete version (easiest calculation computes the variance in each case and \n",
    "# finds the normalisation) generates a 1 / V_cell factor, where V_cell is the size of a\n",
    "# grid cell, i.e. d^3\n",
    "P_discrete = pk.P(z0, k_grid) / (d**3)\n",
    "\n",
    "# Scale the white noise realisation in k-space, remove the constant mode (which may be ill defined), and transform back\n",
    "delta_k = np.fft.rfftn(white_noise) * P_discrete**0.5\n",
    "delta_k[0, 0, 0] = 0.0\n",
    "delta = np.fft.irfftn(delta_k)"
   ]
  },
  {
   "cell_type": "code",
   "execution_count": null,
   "id": "d7dbf1e0-63dd-421b-a02a-14a4d4ebfebb",
   "metadata": {},
   "outputs": [],
   "source": [
    "# quick plot of k and delta^2(k)\n",
    "fig, ax = plt.subplots(1, 2, figsize=(17, 6))\n",
    "im = ax[0].imshow(np.fft.fftshift(k_grid[..., 0]), origin=\"lower\")\n",
    "plt.colorbar(im, ax=ax[0], label=\"k (h/Mpc)\")\n",
    "im = ax[1].imshow(np.log10(np.fft.fftshift(np.abs(delta_k[..., 0])**2)), origin=\"lower\")\n",
    "plt.colorbar(im, ax=ax[1], label=\"$\\log_{10}\\delta^2(k)$\")"
   ]
  },
  {
   "cell_type": "code",
   "execution_count": null,
   "id": "357e9876-e326-45e1-8455-01131b56899e",
   "metadata": {},
   "outputs": [],
   "source": [
    "# Plot the density contrast field at Z=0\n",
    "vlim = 4 * delta.std()\n",
    "fig, axis = plt.subplots(1, 1, figsize=(10, 8))\n",
    "\n",
    "im = axis.imshow(delta[..., 0], cmap=\"coolwarm\", origin=\"lower\", extent=(0, N * d, 0, N * d), vmin=-vlim, vmax=vlim)\n",
    "fig.colorbar(im, label=\"$\\delta$\")\n",
    "axis.set_xlabel(\"x (Mpc/h)\")\n",
    "axis.set_ylabel(\"y (Mpc/h)\")\n",
    "axis.set_title(\"z = 0 Mpc/h\")\n",
    "\n",
    "# zoom in if desired\n",
    "#axis.set_xlim(-100, 100)\n",
    "#axis.set_ylim(-100, 100)"
   ]
  },
  {
   "cell_type": "markdown",
   "id": "ea7806a0-0c6e-4e50-87a1-16c112d4342a",
   "metadata": {},
   "source": [
    "### Estimate Power Spectrum from Realisation"
   ]
  },
  {
   "cell_type": "code",
   "execution_count": null,
   "id": "0dca6426-8165-4534-b392-2e9e98a37686",
   "metadata": {},
   "outputs": [],
   "source": [
    "def estimate_ps(delta, d, z_ax=2):\n",
    "    # Move z axis to the end of the array\n",
    "    if z_ax != 2:\n",
    "        delta = np.moveaxis(delta, z_ax, 2)\n",
    "        \n",
    "    # Don't bother supporting non-square arrays\n",
    "    if delta.shape[0] != delta.shape[1]:\n",
    "        raise ValueError(\n",
    "            \"This routine only supports equal length x and y axes \"\n",
    "            f\"({delta.shape[0]} != {delta.shape[1]})\"\n",
    "        )\n",
    "    \n",
    "    # Fourier transform\n",
    "    delta_k = np.fft.rfftn(delta)\n",
    "    \n",
    "    # Create bins in k-space\n",
    "    kx = np.fft.fftfreq(delta.shape[0], d=1 / delta.shape[0])\n",
    "    ky = np.fft.fftfreq(delta.shape[1], d=1 / delta.shape[1])\n",
    "    k_bin = np.round(np.sqrt(kx[:, np.newaxis]**2 + ky**2)).astype(np.int16)\n",
    "    \n",
    "    # Average power along rings of constant k in z=0 plane\n",
    "    N = delta.shape[0] // 2\n",
    "    mask = k_bin < N\n",
    "    pk = np.bincount(k_bin.flatten(), (mask * (np.abs(delta_k[..., 0])**2)).flatten())[:N]\n",
    "    pk_norm = np.bincount(k_bin.flatten(), mask.flatten())[:N]\n",
    "    pk /= pk_norm\n",
    "    \n",
    "    # Physical k axis\n",
    "    k = kx[:N] * np.pi / d / N\n",
    "    \n",
    "    # Normalise discrete power spectrum to get an estimate of the underlying continuous function\n",
    "    return k, pk / np.prod(delta.shape) * d**3"
   ]
  },
  {
   "cell_type": "code",
   "execution_count": null,
   "id": "bf65f03e-94d2-49b9-a2ed-7fbc167e50a6",
   "metadata": {},
   "outputs": [],
   "source": [
    "# Get power spectrum estimate from our simulated realisation\n",
    "k_sim, ps_sim = estimate_ps(delta, d)"
   ]
  },
  {
   "cell_type": "code",
   "execution_count": null,
   "id": "8af3c86d-e871-4192-a816-967e050cf33f",
   "metadata": {},
   "outputs": [],
   "source": [
    "plt.plot(k_sim, ps_sim, label=\"simulation\")\n",
    "plt.plot(k_sim, pk.P(z0, k_sim), label=\"true\")\n",
    "plt.loglog()\n",
    "plt.legend()\n",
    "plt.ylim(1e-5, 1e-1)\n",
    "plt.xlabel(\"k (h/Mpc)\")"
   ]
  }
 ],
 "metadata": {
  "kernelspec": {
   "display_name": "Python 3 (ipykernel)",
   "language": "python",
   "name": "python3"
  },
  "language_info": {
   "codemirror_mode": {
    "name": "ipython",
    "version": 3
   },
   "file_extension": ".py",
   "mimetype": "text/x-python",
   "name": "python",
   "nbconvert_exporter": "python",
   "pygments_lexer": "ipython3",
   "version": "3.10.4"
  }
 },
 "nbformat": 4,
 "nbformat_minor": 5
}
