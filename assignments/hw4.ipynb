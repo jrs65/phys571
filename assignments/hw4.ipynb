{
 "cells": [
  {
   "cell_type": "code",
   "execution_count": null,
   "id": "c861ccfc-8c21-4ca5-9088-f32dd851ae3c",
   "metadata": {},
   "outputs": [],
   "source": [
    "from typing import Tuple, Optional\n",
    "\n",
    "import numpy as np\n",
    "from matplotlib import pyplot as plt\n",
    "import camb\n",
    "\n",
    "plt.rcParams.update({\"figure.figsize\": (12, 8), \"font.size\": 14})"
   ]
  },
  {
   "cell_type": "code",
   "execution_count": null,
   "id": "78a12ab0-7069-4cb9-bdb4-97e111b4d09f",
   "metadata": {},
   "outputs": [],
   "source": [
    "# random number generator with a fixed seed\n",
    "rng = np.random.default_rng(12345)"
   ]
  },
  {
   "cell_type": "markdown",
   "id": "8e50efc8-26fe-4bf6-898e-d872a366fc6b",
   "metadata": {},
   "source": [
    "### Get power spectrum"
   ]
  },
  {
   "cell_type": "code",
   "execution_count": null,
   "id": "6a311506-aea7-473c-ac58-6109ab246dc1",
   "metadata": {},
   "outputs": [],
   "source": [
    "# cosmological parameters used to generate the power spectrum\n",
    "cparams = camb.CAMBparams(ombh2=0.05 * 0.67**2, omch2=0.25 * 0.67**2, H0=67.)\n",
    "\n",
    "# interpolation function for the matter power spectrum\n",
    "pk = camb.get_matter_power_interpolator(cparams, nonlinear=False, zmax=1000)"
   ]
  },
  {
   "cell_type": "code",
   "execution_count": null,
   "id": "c2d37e6e-7dfb-416d-b996-2a16d2d97f51",
   "metadata": {},
   "outputs": [],
   "source": [
    "# Define a k axis to make some plots\n",
    "# CAMB uses units of Mpc/h\n",
    "kh = np.logspace(-4, 1, 1000)"
   ]
  },
  {
   "cell_type": "code",
   "execution_count": null,
   "id": "09b67b10-f3c7-483d-8b9e-e462a4606bcc",
   "metadata": {},
   "outputs": [],
   "source": [
    "# Plot the power spectrum at a few redshifts\n",
    "for z in [100, 10, 1, 0]:\n",
    "    plt.plot(kh, pk.P(z, kh), label=f\"z={z}\")\n",
    "plt.legend()\n",
    "plt.loglog()\n",
    "plt.xlabel(\"$k/h$ (h/Mpc)\")\n",
    "plt.ylabel(\"$P(k)$ $(Mpc/h)^3$\")"
   ]
  },
  {
   "cell_type": "markdown",
   "id": "b251e9e2-ed21-4bdc-af17-9f9732cae685",
   "metadata": {},
   "source": [
    "### Draw a realisation of density contrast\n",
    "We will draw random gaussian fluctuations from the power spectrum."
   ]
  },
  {
   "cell_type": "code",
   "execution_count": null,
   "id": "f6e14b2b-ada5-4aae-970d-f097eb6ba03d",
   "metadata": {},
   "outputs": [],
   "source": [
    "# Define a discrete grid and spacing in Mpc/h\n",
    "# We use a box with two long sides (N) and one short side (M) to save some memory\n",
    "N = 512\n",
    "M = 16\n",
    "d = 2  # Mpc / h spacing\n",
    "\n",
    "# Draw a Gaussian white noise realisation in real-space, the short axis is the last one.\n",
    "# We will transform this into k-space, apply the power spectrum and transform back. The \n",
    "# rationale for starting in real-space is that we don't need to figure the internal\n",
    "# normalisation of the FFT routines, just assume that the forward and reverse transforms\n",
    "# are inverses.\n",
    "white_noise = np.random.standard_normal((N, N, M))\n",
    "\n",
    "# As we're dealing with a real-valued field, we will use a real-to-complex FFT.\n",
    "# This returns one axis with only the positive wavenumbers (as the negative frequencies\n",
    "# are the complex conjugates). By convention this is the last axis, which is also the\n",
    "# short axis.\n",
    "# Use the numpy `fftfreq` routines to get the wavenumbers for each position on the \n",
    "# long (x, y) or short (z) axes. The factor of 2 pi is because in cosmology we an angular\n",
    "# frequency convention (i.e. the phase factor in the FT is e^{i k x}), whereas FFT\n",
    "# routines typically use a regular frequency convention (i.e. e^{2 pi i f t}).\n",
    "klong = 2 * np.pi * np.fft.fftfreq(N, d=d)\n",
    "kshort = 2 * np.pi * np.fft.rfftfreq(M, d=d)\n",
    "\n",
    "# Construct arrays for the wavenumbers along the x, y, z axes\n",
    "kx = klong[:, np.newaxis, np.newaxis]\n",
    "ky = klong[np.newaxis, :, np.newaxis]\n",
    "kz = kshort[np.newaxis, np.newaxis, :]\n",
    "\n",
    "# The total wavenumber for each element in k-space\n",
    "k_grid = np.sqrt(kx**2 + ky**2 + kz**2)\n",
    "\n",
    "# Initial redshift\n",
    "z0 = 1000.0\n",
    "\n",
    "# Get the power spectrum amplitude for each cell. Mapping the continuous power spectrum\n",
    "# into a discrete version (easiest calculation computes the variance in each case and \n",
    "# finds the normalisation) generates a 1 / V_cell factor, where V_cell is the size of a\n",
    "# grid cell, i.e. d^3\n",
    "P_discrete = pk.P(z0, k_grid) / (d**3)\n",
    "\n",
    "# Scale the white noise realisation in k-space, remove the constant mode (which may be ill defined), and transform back\n",
    "delta_k = np.fft.rfftn(white_noise) * P_discrete**0.5\n",
    "delta_k[0, 0, 0] = 0.0\n",
    "delta = np.fft.irfftn(delta_k)"
   ]
  },
  {
   "cell_type": "code",
   "execution_count": null,
   "id": "d7dbf1e0-63dd-421b-a02a-14a4d4ebfebb",
   "metadata": {},
   "outputs": [],
   "source": [
    "# quick plot of k and delta^2(k)\n",
    "fig, ax = plt.subplots(1, 2, figsize=(17, 6))\n",
    "im = ax[0].imshow(np.fft.fftshift(k_grid[..., 0]), origin=\"lower\")\n",
    "plt.colorbar(im, ax=ax[0], label=\"k (h/Mpc)\")\n",
    "im = ax[1].imshow(np.log10(np.fft.fftshift(np.abs(delta_k[..., 0])**2)), origin=\"lower\")\n",
    "plt.colorbar(im, ax=ax[1], label=\"$\\log_{10}\\delta^2(k)$\")"
   ]
  },
  {
   "cell_type": "code",
   "execution_count": null,
   "id": "357e9876-e326-45e1-8455-01131b56899e",
   "metadata": {},
   "outputs": [],
   "source": [
    "# Plot the density contrast field at Z=0\n",
    "vlim = 4 * delta.std()\n",
    "fig, axis = plt.subplots(1, 1, figsize=(10, 8))\n",
    "\n",
    "im = axis.imshow(delta[..., 0], cmap=\"coolwarm\", origin=\"lower\", extent=(0, N * d, 0, N * d), vmin=-vlim, vmax=vlim)\n",
    "fig.colorbar(im, label=\"$\\delta$\")\n",
    "axis.set_xlabel(\"x (Mpc/h)\")\n",
    "axis.set_ylabel(\"y (Mpc/h)\")\n",
    "axis.set_title(\"z = 0 Mpc/h\")\n",
    "\n",
    "# zoom in if desired\n",
    "#axis.set_xlim(-100, 100)\n",
    "#axis.set_ylim(-100, 100)"
   ]
  },
  {
   "cell_type": "markdown",
   "id": "ea7806a0-0c6e-4e50-87a1-16c112d4342a",
   "metadata": {},
   "source": [
    "### Estimate Power Spectrum from Realisation"
   ]
  },
  {
   "cell_type": "code",
   "execution_count": null,
   "id": "0dca6426-8165-4534-b392-2e9e98a37686",
   "metadata": {},
   "outputs": [],
   "source": [
    "def estimate_ps(delta: np.ndarray, d: float, N: int = 100, kmax: Optional[float] = None, XY: bool = False):\n",
    "    \"\"\"Estimate the power spectrum.\n",
    "    \n",
    "    Parameters\n",
    "    ----------\n",
    "    delta\n",
    "        Density field to take the power spectrum of.\n",
    "    d\n",
    "        Size of grid cell.\n",
    "    N\n",
    "        Number of output power spectrum bins.\n",
    "    kmax\n",
    "        Max k to go up to. If not set, use the highest present k.\n",
    "    XY\n",
    "        Estimate the power spectrum using the XY dimensions only. This is useful if the Z \n",
    "        dimension is much smaller which can cause artifacts.\n",
    "        \n",
    "    Returns\n",
    "    -------\n",
    "    k\n",
    "        The centre of each k-bin.\n",
    "    ps\n",
    "        The power spectrum value.\n",
    "    \"\"\"\n",
    "    \n",
    "    # Construct arrays for the wavenumbers along the x, y, z axes\n",
    "    kx = 2 * np.pi * np.fft.fftfreq(delta.shape[0], d=d)\n",
    "    ky = 2 * np.pi * np.fft.fftfreq(delta.shape[1], d=d)\n",
    "    kz = 2 * np.pi * np.fft.rfftfreq(delta.shape[2], d=d)\n",
    "    \n",
    "    k = (\n",
    "        kx[:, np.newaxis, np.newaxis]**2 + \n",
    "        ky[np.newaxis, :, np.newaxis]**2 + \n",
    "        kz[np.newaxis, np.newaxis, :]**2\n",
    "    )**0.5\n",
    "    \n",
    "    # This sets the k of each cell to be less than zero, which means it\n",
    "    # will be missed from the subsequent sums.\n",
    "    if XY:\n",
    "        k[..., 1:] = -1.0\n",
    "    \n",
    "    # Define bins in k-space, and use np.digitize to find which k-space cells line in which bins\n",
    "    if kmax is None:\n",
    "        kmax = k.max()\n",
    "    k_bins = np.linspace(0, kmax, N + 1)\n",
    "    bin_ind = np.digitize(k.ravel(), k_bins)\n",
    "    \n",
    "    # Average power along the k bin rings using np.bincount to do a weighted count of the cells.\n",
    "    delta_k = np.fft.rfftn(delta)\n",
    "    pk = np.bincount(bin_ind.ravel(), weights=np.abs(delta_k.ravel())**2)\n",
    "    pk_norm = np.bincount(bin_ind.ravel())\n",
    "    pk = pk[1:-1] / pk_norm[1:-1] / delta.size * d**3\n",
    "    \n",
    "    # Construct the central value of each bin\n",
    "    kc = 0.5 * (k_bins[1:] + k_bins[:-1])\n",
    "    \n",
    "    return kc, pk"
   ]
  },
  {
   "cell_type": "code",
   "execution_count": null,
   "id": "bf65f03e-94d2-49b9-a2ed-7fbc167e50a6",
   "metadata": {},
   "outputs": [],
   "source": [
    "# Get power spectrum estimate from our simulated realisation\n",
    "k_sim, ps_sim = estimate_ps(delta, d)"
   ]
  },
  {
   "cell_type": "code",
   "execution_count": null,
   "id": "8af3c86d-e871-4192-a816-967e050cf33f",
   "metadata": {},
   "outputs": [],
   "source": [
    "plt.plot(k_sim, ps_sim, label=\"simulation\")\n",
    "plt.plot(k_sim, pk.P(z0, k_sim), label=\"true\")\n",
    "plt.loglog()\n",
    "plt.legend()\n",
    "plt.ylim(1e-5, 1e-1)\n",
    "plt.xlabel(\"k (h/Mpc)\")"
   ]
  },
  {
   "cell_type": "markdown",
   "id": "f40034ce-4e90-4dde-b283-08c9fc65c170",
   "metadata": {},
   "source": [
    "### Calculate Zel'dovich Power Spectrum"
   ]
  },
  {
   "cell_type": "code",
   "execution_count": null,
   "id": "db7ce209-f37f-4392-875b-52a7a391ceb8",
   "metadata": {},
   "outputs": [],
   "source": [
    "def grid_particles(\n",
    "    particles: np.ndarray,\n",
    "    N: Tuple[float, float, float],\n",
    "    L: Tuple[float, float, float],\n",
    "    W: Tuple[float, float, float],\n",
    ") -> np.ndarray:\n",
    "    \"\"\"Assign the particle mass onto a 3D grid\n",
    "    \n",
    "    Particles are periodically wrapped into the grid.\n",
    "    \n",
    "    Parameters\n",
    "    ----------\n",
    "    particles\n",
    "        A two dimensional array of particle positions. The array must be\n",
    "        shaped as (3, num_particles).\n",
    "    N\n",
    "        The size of the output box along the X, Y and Z dimensions.\n",
    "    L\n",
    "        The center of the lowest cell in each dimensions.\n",
    "    W\n",
    "        The width of the box in each dimension.\n",
    "        \n",
    "    Returns\n",
    "    -------\n",
    "    density_grid\n",
    "        The mass of the particles\n",
    "    \"\"\"\n",
    "    import pynbody\n",
    "    \n",
    "    particles = particles.copy()\n",
    "    \n",
    "    # Wrap the particles over the periodic boundary to whichever side will be nearest\n",
    "    for ii, (n, s, w) in enumerate(zip(N, L, W)):\n",
    "        d = w / n\n",
    "        particles[ii] = ((particles[ii] - s + 0.5 * d) % w) - 0.5 * d + s\n",
    "    \n",
    "    # Construct a pynbody snapshot\n",
    "    nb = pynbody.new(particles.shape[1])\n",
    "    nb[\"x\"] = particles[0].ravel()\n",
    "    nb[\"y\"] = particles[1].ravel()\n",
    "    nb[\"z\"] = particles[2].ravel()\n",
    "    nb[\"mass\"] = 1.0\n",
    "    \n",
    "    # Place on a grid, and construct the fractional density contrast\n",
    "    gr = pynbody.sph.to_3d_grid(nb, nx=N[0], ny=N[1], nz=N[2])\n",
    "    gr /= gr.mean()\n",
    "    gr -= 1.0\n",
    "    \n",
    "    return gr"
   ]
  },
  {
   "cell_type": "code",
   "execution_count": null,
   "id": "ff5f9839-8678-4dda-ad36-cc33dd6b5e18",
   "metadata": {},
   "outputs": [],
   "source": []
  }
 ],
 "metadata": {
  "kernelspec": {
   "display_name": "eboss-stacking",
   "language": "python",
   "name": "eboss-stacking"
  },
  "language_info": {
   "codemirror_mode": {
    "name": "ipython",
    "version": 3
   },
   "file_extension": ".py",
   "mimetype": "text/x-python",
   "name": "python",
   "nbconvert_exporter": "python",
   "pygments_lexer": "ipython3",
   "version": "3.9.9"
  }
 },
 "nbformat": 4,
 "nbformat_minor": 5
}
